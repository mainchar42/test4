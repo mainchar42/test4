{
 "cells": [
  {
   "cell_type": "markdown",
   "id": "f1cbd170",
   "metadata": {},
   "source": [
    "hehehe"
   ]
  }
 ],
 "metadata": {
  "language_info": {
   "name": "python"
  }
 },
 "nbformat": 4,
 "nbformat_minor": 5
}
